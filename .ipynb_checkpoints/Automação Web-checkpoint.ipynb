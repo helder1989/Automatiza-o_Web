{
 "cells": [
  {
   "cell_type": "markdown",
   "id": "26ca7f24",
   "metadata": {},
   "source": [
    "# Automação Web "
   ]
  },
  {
   "cell_type": "markdown",
   "id": "e5848f48",
   "metadata": {},
   "source": [
    "## Introdução \n",
    "\n",
    "O objetivo desse experimento é realizar uma automação web. Nesse contexto vamos instalar o **Selenium** que é uma biblioteca que vai nos possibilitar essa automação. A instalação foi realizada através do Prompt de comando(Anaconda).\n",
    "\n",
    "Será necessário também baixar o **webdriver** que vai possibilitar a conexão do Python com o navegador, como será usado o Google Chrome vamos baixar o webdriver **Chromedriver**. Ou seja, a definição de qual webdriver baixar vai depender de qual navegador estamos usando."
   ]
  },
  {
   "cell_type": "code",
   "execution_count": 3,
   "id": "6dac89a5",
   "metadata": {},
   "outputs": [],
   "source": [
    "# Acesso ao demonstrativo de Resultados da Magzine Luiza\n",
    "\n",
    "# 1º: Entrar em https://ri.magazineluiza.com.br/\n"
   ]
  },
  {
   "cell_type": "markdown",
   "id": "9a2ae1e9",
   "metadata": {},
   "source": [
    "A nossa automação vai fazer o seguinte: Clicar no botão > executar o nosso código > e ele deve fazer o mesmo que foi registrado no passo a passo anterior."
   ]
  },
  {
   "cell_type": "code",
   "execution_count": 4,
   "id": "52fe15d0",
   "metadata": {},
   "outputs": [],
   "source": [
    "from selenium import webdriver\n",
    "\n",
    "navegador = webdriver.Chrome()\n",
    "\n",
    "navegador.get(\"https://ri.magazineluiza.com.br/\")\n",
    "\n",
    "\n"
   ]
  },
  {
   "cell_type": "markdown",
   "id": "4219225c",
   "metadata": {},
   "source": [
    "Realizei à automação: Abrir o navegador e site da Magazine Luiza. Ou seja, o ínicio de uma automação web."
   ]
  }
 ],
 "metadata": {
  "kernelspec": {
   "display_name": "Python 3 (ipykernel)",
   "language": "python",
   "name": "python3"
  },
  "language_info": {
   "codemirror_mode": {
    "name": "ipython",
    "version": 3
   },
   "file_extension": ".py",
   "mimetype": "text/x-python",
   "name": "python",
   "nbconvert_exporter": "python",
   "pygments_lexer": "ipython3",
   "version": "3.9.12"
  }
 },
 "nbformat": 4,
 "nbformat_minor": 5
}
